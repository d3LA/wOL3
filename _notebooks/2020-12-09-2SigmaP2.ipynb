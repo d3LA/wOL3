{
 "cells": [
  {
   "cell_type": "markdown",
   "metadata": {},
   "source": [
    "# tipToe Dive into Machine Learning II\n",
    "> this is a sequel to my previous post [tipToe Dive into Machine Learning I](https://d3la.github.io/wOL3/advanced%20beginner/2020/12/08/2SigmaP1.html).\n",
    "- toc: true\n",
    "- branch: master\n",
    "- badges: true\n",
    "- comments: true\n",
    "- author: Victor Worlanyo\n",
    "- categories: [Advanced Beginner]"
   ]
  },
  {
   "cell_type": "markdown",
   "metadata": {},
   "source": [
    "## Loading data\n",
    "download and unzip these files into your working directory before running the following command `!python prep-rent.py`:\n",
    "- [train.json](https://www.kaggle.com/c/two-sigma-connect-rental-listing-inquiries/data?select=train.json.zip)\n",
    "- [prep-rent.py](https://mlbook.explained.ai/data/prep-rent.py)"
   ]
  },
  {
   "cell_type": "code",
   "execution_count": 3,
   "metadata": {},
   "outputs": [
    {
     "name": "stdout",
     "output_type": "stream",
     "text": [
      "Created rent.csv\n",
      "Created rent-ideal.csv\n"
     ]
    }
   ],
   "source": [
    "!python ../data/prep-rent.py"
   ]
  },
  {
   "cell_type": "markdown",
   "metadata": {},
   "source": [
    "# First, some exploratory data analysis (EDA)\n",
    "generating some descriptive statistics. that is, a summary of the central tendency, measures of dispersion and shape of rental dataset's distribution. all of which is possible when the data contains no missing values `NaN` "
   ]
  }
 ],
 "metadata": {
  "kernelspec": {
   "display_name": "Python 3",
   "language": "python",
   "name": "python3"
  },
  "language_info": {
   "codemirror_mode": {
    "name": "ipython",
    "version": 3
   },
   "file_extension": ".py",
   "mimetype": "text/x-python",
   "name": "python",
   "nbconvert_exporter": "python",
   "pygments_lexer": "ipython3",
   "version": "3.8.3"
  }
 },
 "nbformat": 4,
 "nbformat_minor": 4
}
