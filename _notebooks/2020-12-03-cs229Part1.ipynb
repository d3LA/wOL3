{
  "nbformat": 4,
  "nbformat_minor": 0,
  "metadata": {
    "colab": {
      "name": "cs229Part1",
      "provenance": []
    },
    "kernelspec": {
      "name": "python3",
      "display_name": "Python 3"
    }
  },
  "cells": [
    {
      "cell_type": "code",
      "metadata": {
        "id": "4rmOXtJApwwU",
        "outputId": "a2ddfd47-bd96-4cb6-d349-6101e519d02d",
        "colab": {
          "base_uri": "https://localhost:8080/",
          "height": 153
        }
      },
      "source": [
        "import pandas as pd\n",
        "# import numpy as np\n",
        "# import matplotlib.pyplot as plt\n",
        "!pip install statsmodels"
      ],
      "execution_count": 1,
      "outputs": [
        {
          "output_type": "stream",
          "text": [
            "Requirement already satisfied: statsmodels in /usr/local/lib/python3.6/dist-packages (0.10.2)\n",
            "Requirement already satisfied: scipy>=0.18 in /usr/local/lib/python3.6/dist-packages (from statsmodels) (1.4.1)\n",
            "Requirement already satisfied: pandas>=0.19 in /usr/local/lib/python3.6/dist-packages (from statsmodels) (1.0.5)\n",
            "Requirement already satisfied: patsy>=0.4.0 in /usr/local/lib/python3.6/dist-packages (from statsmodels) (0.5.1)\n",
            "Requirement already satisfied: numpy>=1.11 in /usr/local/lib/python3.6/dist-packages (from statsmodels) (1.18.5)\n",
            "Requirement already satisfied: pytz>=2017.2 in /usr/local/lib/python3.6/dist-packages (from pandas>=0.19->statsmodels) (2018.9)\n",
            "Requirement already satisfied: python-dateutil>=2.6.1 in /usr/local/lib/python3.6/dist-packages (from pandas>=0.19->statsmodels) (2.8.1)\n",
            "Requirement already satisfied: six in /usr/local/lib/python3.6/dist-packages (from patsy>=0.4.0->statsmodels) (1.15.0)\n"
          ],
          "name": "stdout"
        }
      ]
    },
    {
      "cell_type": "markdown",
      "metadata": {
        "id": "_TNI8I6NMjaY"
      },
      "source": [
        "Loading Portland Housing Price Prediction Dataset"
      ]
    },
    {
      "cell_type": "code",
      "metadata": {
        "id": "JAAnw9vzp_YO"
      },
      "source": [
        "ptlnd = pd.read_csv('ex1data2.txt',header=None)\n",
        "# ptval = ptlnd.iloc[:,2].values\n",
        "# ptindex = ptlnd.iloc[:,0].values"
      ],
      "execution_count": 2,
      "outputs": []
    },
    {
      "cell_type": "code",
      "metadata": {
        "id": "53ZLH12vqhcz"
      },
      "source": [
        "# pt = pd.Series(ptval,index=ptindex)"
      ],
      "execution_count": 3,
      "outputs": []
    },
    {
      "cell_type": "markdown",
      "metadata": {
        "id": "ZQ5W4-ONMs5S"
      },
      "source": [
        "installing statsmodels and its dependencies"
      ]
    },
    {
      "cell_type": "code",
      "metadata": {
        "id": "7QWwPdNaqjCd",
        "outputId": "1a472d8e-8e04-400d-9523-892715056770",
        "colab": {
          "base_uri": "https://localhost:8080/",
          "height": 51
        }
      },
      "source": [
        " import statsmodels.api as sm\n",
        "from patsy import dmatrices\n",
        "# patsy is a Python library for describing statistical models and building Design Matrices"
      ],
      "execution_count": 3,
      "outputs": [
        {
          "output_type": "stream",
          "text": [
            "/usr/local/lib/python3.6/dist-packages/statsmodels/tools/_testing.py:19: FutureWarning: pandas.util.testing is deprecated. Use the functions in the public API at pandas.testing instead.\n",
            "  import pandas.util.testing as tm\n"
          ],
          "name": "stderr"
        }
      ]
    },
    {
      "cell_type": "code",
      "metadata": {
        "id": "xsLB9FWFJG3L",
        "outputId": "bc8ebb86-0beb-4afd-fbf3-6355413cb2d0",
        "colab": {
          "base_uri": "https://localhost:8080/",
          "height": 34
        }
      },
      "source": [
        "ptlnd.columns"
      ],
      "execution_count": 9,
      "outputs": [
        {
          "output_type": "execute_result",
          "data": {
            "text/plain": [
              "Index(['Living_area', 'bedrooms', 'Price'], dtype='object')"
            ]
          },
          "metadata": {
            "tags": []
          },
          "execution_count": 9
        }
      ]
    },
    {
      "cell_type": "code",
      "metadata": {
        "id": "5Ge8d5v5E_zI"
      },
      "source": [
        "# renaming columns\n",
        "ptlnd.rename(columns={0:'Living_area',1:'bedrooms',2:'Price'},inplace=True)"
      ],
      "execution_count": 8,
      "outputs": []
    },
    {
      "cell_type": "code",
      "metadata": {
        "id": "TuGWkQIAKD-S",
        "outputId": "f787257e-ba65-4c4d-b374-fe31b15b81d5",
        "colab": {
          "base_uri": "https://localhost:8080/",
          "height": 34
        }
      },
      "source": [
        "ptlnd.columns"
      ],
      "execution_count": 10,
      "outputs": [
        {
          "output_type": "execute_result",
          "data": {
            "text/plain": [
              "Index(['Living_area', 'bedrooms', 'Price'], dtype='object')"
            ]
          },
          "metadata": {
            "tags": []
          },
          "execution_count": 10
        }
      ]
    },
    {
      "cell_type": "markdown",
      "metadata": {
        "id": "0RNNrzNTM69L"
      },
      "source": [
        "create two design matrices to fit estimated model (OLS)\n",
        "- $y$ : matrix of endogenous variables (dependent), $N \\times 1$ column data ~ Price\n",
        "- $X$ : matrix exogenous varaibles (independent), $N \\times 3$ column data ~ y-Intercept, Living Area, #bedrooms"
      ]
    },
    {
      "cell_type": "code",
      "metadata": {
        "id": "hnRhgLImHb-2"
      },
      "source": [
        "\n",
        "y, X = dmatrices('Price ~ Living_area + bedrooms',data=ptlnd,return_type='dataframe')"
      ],
      "execution_count": 11,
      "outputs": []
    },
    {
      "cell_type": "markdown",
      "metadata": {
        "id": "R-Ds7j5ILgBn"
      },
      "source": [
        "Design Matrices"
      ]
    },
    {
      "cell_type": "code",
      "metadata": {
        "id": "vgxisZ9sKgqg",
        "outputId": "ca701b01-026e-41c0-afd0-1bd040b003c5",
        "colab": {
          "base_uri": "https://localhost:8080/",
          "height": 204
        }
      },
      "source": [
        "y.head()"
      ],
      "execution_count": 14,
      "outputs": [
        {
          "output_type": "execute_result",
          "data": {
            "text/html": [
              "<div>\n",
              "<style scoped>\n",
              "    .dataframe tbody tr th:only-of-type {\n",
              "        vertical-align: middle;\n",
              "    }\n",
              "\n",
              "    .dataframe tbody tr th {\n",
              "        vertical-align: top;\n",
              "    }\n",
              "\n",
              "    .dataframe thead th {\n",
              "        text-align: right;\n",
              "    }\n",
              "</style>\n",
              "<table border=\"1\" class=\"dataframe\">\n",
              "  <thead>\n",
              "    <tr style=\"text-align: right;\">\n",
              "      <th></th>\n",
              "      <th>Price</th>\n",
              "    </tr>\n",
              "  </thead>\n",
              "  <tbody>\n",
              "    <tr>\n",
              "      <th>0</th>\n",
              "      <td>399900.0</td>\n",
              "    </tr>\n",
              "    <tr>\n",
              "      <th>1</th>\n",
              "      <td>329900.0</td>\n",
              "    </tr>\n",
              "    <tr>\n",
              "      <th>2</th>\n",
              "      <td>369000.0</td>\n",
              "    </tr>\n",
              "    <tr>\n",
              "      <th>3</th>\n",
              "      <td>232000.0</td>\n",
              "    </tr>\n",
              "    <tr>\n",
              "      <th>4</th>\n",
              "      <td>539900.0</td>\n",
              "    </tr>\n",
              "  </tbody>\n",
              "</table>\n",
              "</div>"
            ],
            "text/plain": [
              "      Price\n",
              "0  399900.0\n",
              "1  329900.0\n",
              "2  369000.0\n",
              "3  232000.0\n",
              "4  539900.0"
            ]
          },
          "metadata": {
            "tags": []
          },
          "execution_count": 14
        }
      ]
    },
    {
      "cell_type": "code",
      "metadata": {
        "id": "vqTxRP_aLn1J",
        "outputId": "a4661934-80d3-477e-992c-40310d0d0e10",
        "colab": {
          "base_uri": "https://localhost:8080/",
          "height": 204
        }
      },
      "source": [
        "X.head()"
      ],
      "execution_count": 15,
      "outputs": [
        {
          "output_type": "execute_result",
          "data": {
            "text/html": [
              "<div>\n",
              "<style scoped>\n",
              "    .dataframe tbody tr th:only-of-type {\n",
              "        vertical-align: middle;\n",
              "    }\n",
              "\n",
              "    .dataframe tbody tr th {\n",
              "        vertical-align: top;\n",
              "    }\n",
              "\n",
              "    .dataframe thead th {\n",
              "        text-align: right;\n",
              "    }\n",
              "</style>\n",
              "<table border=\"1\" class=\"dataframe\">\n",
              "  <thead>\n",
              "    <tr style=\"text-align: right;\">\n",
              "      <th></th>\n",
              "      <th>Intercept</th>\n",
              "      <th>Living_area</th>\n",
              "      <th>bedrooms</th>\n",
              "    </tr>\n",
              "  </thead>\n",
              "  <tbody>\n",
              "    <tr>\n",
              "      <th>0</th>\n",
              "      <td>1.0</td>\n",
              "      <td>2104.0</td>\n",
              "      <td>3.0</td>\n",
              "    </tr>\n",
              "    <tr>\n",
              "      <th>1</th>\n",
              "      <td>1.0</td>\n",
              "      <td>1600.0</td>\n",
              "      <td>3.0</td>\n",
              "    </tr>\n",
              "    <tr>\n",
              "      <th>2</th>\n",
              "      <td>1.0</td>\n",
              "      <td>2400.0</td>\n",
              "      <td>3.0</td>\n",
              "    </tr>\n",
              "    <tr>\n",
              "      <th>3</th>\n",
              "      <td>1.0</td>\n",
              "      <td>1416.0</td>\n",
              "      <td>2.0</td>\n",
              "    </tr>\n",
              "    <tr>\n",
              "      <th>4</th>\n",
              "      <td>1.0</td>\n",
              "      <td>3000.0</td>\n",
              "      <td>4.0</td>\n",
              "    </tr>\n",
              "  </tbody>\n",
              "</table>\n",
              "</div>"
            ],
            "text/plain": [
              "   Intercept  Living_area  bedrooms\n",
              "0        1.0       2104.0       3.0\n",
              "1        1.0       1600.0       3.0\n",
              "2        1.0       2400.0       3.0\n",
              "3        1.0       1416.0       2.0\n",
              "4        1.0       3000.0       4.0"
            ]
          },
          "metadata": {
            "tags": []
          },
          "execution_count": 15
        }
      ]
    },
    {
      "cell_type": "markdown",
      "metadata": {
        "id": "nJXCdMV3S0wm"
      },
      "source": [
        "Model fit and summary\n",
        "- Describe, fit and summarize model using Ordinary Least Squares (OLS)"
      ]
    },
    {
      "cell_type": "code",
      "metadata": {
        "id": "HejFRFXSHuqk",
        "outputId": "f2602a84-4008-420d-86d3-013e19f7ba9f",
        "colab": {
          "base_uri": "https://localhost:8080/",
          "height": 493
        }
      },
      "source": [
        "# describe model\n",
        "mod = sm.OLS(y,X)\n",
        "\n",
        "# fit model\n",
        "res = mod.fit()\n",
        "\n",
        "# Summarize model\n",
        "print(res.summary())"
      ],
      "execution_count": 17,
      "outputs": [
        {
          "output_type": "stream",
          "text": [
            "                            OLS Regression Results                            \n",
            "==============================================================================\n",
            "Dep. Variable:                  Price   R-squared:                       0.733\n",
            "Model:                            OLS   Adj. R-squared:                  0.721\n",
            "Method:                 Least Squares   F-statistic:                     60.38\n",
            "Date:                Tue, 29 Sep 2020   Prob (F-statistic):           2.43e-13\n",
            "Time:                        14:40:19   Log-Likelihood:                -586.77\n",
            "No. Observations:                  47   AIC:                             1180.\n",
            "Df Residuals:                      44   BIC:                             1185.\n",
            "Df Model:                           2                                         \n",
            "Covariance Type:            nonrobust                                         \n",
            "===============================================================================\n",
            "                  coef    std err          t      P>|t|      [0.025      0.975]\n",
            "-------------------------------------------------------------------------------\n",
            "Intercept     8.96e+04   4.18e+04      2.145      0.037    5421.208    1.74e+05\n",
            "Living_area   139.2107     14.795      9.409      0.000     109.393     169.028\n",
            "bedrooms    -8738.0191   1.55e+04     -0.566      0.575   -3.99e+04    2.24e+04\n",
            "==============================================================================\n",
            "Omnibus:                        4.083   Durbin-Watson:                   1.826\n",
            "Prob(Omnibus):                  0.130   Jarque-Bera (JB):                2.977\n",
            "Skew:                           0.567   Prob(JB):                        0.226\n",
            "Kurtosis:                       3.484   Cond. No.                     9.71e+03\n",
            "==============================================================================\n",
            "\n",
            "Warnings:\n",
            "[1] Standard Errors assume that the covariance matrix of the errors is correctly specified.\n",
            "[2] The condition number is large, 9.71e+03. This might indicate that there are\n",
            "strong multicollinearity or other numerical problems.\n"
          ],
          "name": "stdout"
        }
      ]
    },
    {
      "cell_type": "markdown",
      "metadata": {
        "id": "cXxCkhjnT04c"
      },
      "source": [
        "Extracting parameter estimates and $r^2$"
      ]
    },
    {
      "cell_type": "code",
      "metadata": {
        "id": "yxj54XIoK5vP",
        "outputId": "fa33fe7b-d322-4a69-d3fb-8032e3220cf4",
        "colab": {
          "base_uri": "https://localhost:8080/",
          "height": 85
        }
      },
      "source": [
        "res.params"
      ],
      "execution_count": 18,
      "outputs": [
        {
          "output_type": "execute_result",
          "data": {
            "text/plain": [
              "Intercept      89597.909543\n",
              "Living_area      139.210674\n",
              "bedrooms       -8738.019112\n",
              "dtype: float64"
            ]
          },
          "metadata": {
            "tags": []
          },
          "execution_count": 18
        }
      ]
    },
    {
      "cell_type": "code",
      "metadata": {
        "id": "bPEAMwMVLKT4",
        "outputId": "936f5ca2-9584-4995-ec53-8a5bab87d8ea",
        "colab": {
          "base_uri": "https://localhost:8080/",
          "height": 34
        }
      },
      "source": [
        "res.rsquared"
      ],
      "execution_count": 19,
      "outputs": [
        {
          "output_type": "execute_result",
          "data": {
            "text/plain": [
              "0.7329450180289142"
            ]
          },
          "metadata": {
            "tags": []
          },
          "execution_count": 19
        }
      ]
    },
    {
      "cell_type": "markdown",
      "metadata": {
        "id": "Q85FfG4CcF4U"
      },
      "source": [
        "Applying Rainbow Test for Linearity\n",
        "- The basic idea of the Rainbow test is that even if the true relationship is non-linear, a good linear fit can be achieved on a subsample in the \"middle\" of the data"
      ]
    },
    {
      "cell_type": "code",
      "metadata": {
        "id": "3jceUc8cLN_m",
        "outputId": "3515a638-11da-4d89-dc09-b0ddfec8934a",
        "colab": {
          "base_uri": "https://localhost:8080/",
          "height": 34
        }
      },
      "source": [
        "sm.stats.linear_rainbow(res)"
      ],
      "execution_count": 21,
      "outputs": [
        {
          "output_type": "execute_result",
          "data": {
            "text/plain": [
              "(0.49348806706947385, 0.9499682609135575)"
            ]
          },
          "metadata": {
            "tags": []
          },
          "execution_count": 21
        }
      ]
    },
    {
      "cell_type": "markdown",
      "metadata": {
        "id": "u3t3fnjtc5fK"
      },
      "source": [
        "Draw a plot of partial regression for a set of regressors"
      ]
    },
    {
      "cell_type": "code",
      "metadata": {
        "id": "CU1ggpXiLdEZ",
        "outputId": "9f66e467-215d-4cba-a065-378693f50314",
        "colab": {
          "base_uri": "https://localhost:8080/",
          "height": 575
        }
      },
      "source": [
        "sm.graphics.plot_partregress('Price','Living_area',['bedrooms'],data=ptlnd,obs_labels=False)"
      ],
      "execution_count": 20,
      "outputs": [
        {
          "output_type": "execute_result",
          "data": {
            "image/png": "[encoded data removed]",
            "text/plain": [
              "<Figure size 432x288 with 1 Axes>"
            ]
          },
          "metadata": {
            "tags": []
          },
          "execution_count": 20
        },
        {
          "output_type": "display_data",
          "data": {
            "image/png": "[encoded data removed]",
            "text/plain": [
              "<Figure size 432x288 with 1 Axes>"
            ]
          },
          "metadata": {
            "tags": [],
            "needs_background": "light"
          }
        }
      ]
    },
    {
      "cell_type": "code",
      "metadata": {
        "id": "Rf8oLRg_L6wv"
      },
      "source": [
        ""
      ],
      "execution_count": null,
      "outputs": []
    }
  ]
}
