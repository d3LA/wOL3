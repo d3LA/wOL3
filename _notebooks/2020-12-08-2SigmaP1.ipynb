{
 "cells": [
  {
   "cell_type": "markdown",
   "metadata": {
    "id": "hAuVckvsmOJz"
   },
   "source": [
    "# tipToe Dive into Machine Learning I\n",
    "> implementing various methods and tools particularly notes from [The Mechanics of Machine Learning](https://mlbook.explained.ai/).\n",
    "- toc: true\n",
    "- branch: master\n",
    "- badges: true\n",
    "- comments: true\n",
    "- author: Victor Worlanyo\n",
    "- categories: [Advanced Beginner]"
   ]
  },
  {
   "cell_type": "markdown",
   "metadata": {
    "id": "FwYeVuJ0ouvp"
   },
   "source": [
    "## Loading data\n",
    "download and unzip these files into your working directory before running the following command `!python prep-rent.py`:\n",
    "- [train.json](https://www.kaggle.com/c/two-sigma-connect-rental-listing-inquiries/data?select=train.json.zip)\n",
    "- [prep-rent.py](https://mlbook.explained.ai/data/prep-rent.py)"
   ]
  },
  {
   "cell_type": "code",
   "execution_count": 1,
   "metadata": {
    "colab": {
     "base_uri": "https://localhost:8080/"
    },
    "id": "zziPHU9N6SpR",
    "outputId": "07cb58bf-f7b2-40e7-8f10-e2dcce840dbd"
   },
   "outputs": [
    {
     "name": "stdout",
     "output_type": "stream",
     "text": [
      "Created rent.csv\n",
      "Created rent-ideal.csv\n"
     ]
    }
   ],
   "source": [
    "!python prep-rent.py"
   ]
  },
  {
   "cell_type": "markdown",
   "metadata": {
    "id": "Ps_bzRN6F6Jl"
   },
   "source": [
    "# First, a shallow analysis of our data\n",
    "this is a rental listing data from RentHop, a portforlio company of [Two Sigma Ventures](https://twosigmaventures.com/). the goal of this project is to predict the number of enquiries a future listing will get based on the date the new listing was created and other features such as location, number of bedrooms, bathrooms etc. "
   ]
  },
  {
   "cell_type": "code",
   "execution_count": 2,
   "metadata": {
    "id": "d1glWpPL7qBX"
   },
   "outputs": [],
   "source": [
    "import pandas as pd\n",
    "df = pd.read_csv('rent.csv')"
   ]
  },
  {
   "cell_type": "markdown",
   "metadata": {
    "id": "h09mQwmk-Ujt"
   },
   "source": [
    "transposing dataframe for better display"
   ]
  },
  {
   "cell_type": "code",
   "execution_count": 3,
   "metadata": {
    "colab": {
     "base_uri": "https://localhost:8080/",
     "height": 548
    },
    "id": "u7AfVSgz_y2u",
    "outputId": "5f782289-8c70-4995-85ce-1b424412bc6d"
   },
   "outputs": [
    {
     "name": "stdout",
     "output_type": "stream",
     "text": [
      "(49352, 15)\n"
     ]
    },
    {
     "data": {
      "text/html": [
       "<div>\n",
       "<style scoped>\n",
       "    .dataframe tbody tr th:only-of-type {\n",
       "        vertical-align: middle;\n",
       "    }\n",
       "\n",
       "    .dataframe tbody tr th {\n",
       "        vertical-align: top;\n",
       "    }\n",
       "\n",
       "    .dataframe thead th {\n",
       "        text-align: right;\n",
       "    }\n",
       "</style>\n",
       "<table border=\"1\" class=\"dataframe\">\n",
       "  <thead>\n",
       "    <tr style=\"text-align: right;\">\n",
       "      <th></th>\n",
       "      <th>0</th>\n",
       "      <th>1</th>\n",
       "      <th>2</th>\n",
       "      <th>3</th>\n",
       "      <th>4</th>\n",
       "    </tr>\n",
       "  </thead>\n",
       "  <tbody>\n",
       "    <tr>\n",
       "      <th>bathrooms</th>\n",
       "      <td>1</td>\n",
       "      <td>1</td>\n",
       "      <td>1</td>\n",
       "      <td>1.5</td>\n",
       "      <td>1</td>\n",
       "    </tr>\n",
       "    <tr>\n",
       "      <th>bedrooms</th>\n",
       "      <td>1</td>\n",
       "      <td>2</td>\n",
       "      <td>2</td>\n",
       "      <td>3</td>\n",
       "      <td>0</td>\n",
       "    </tr>\n",
       "    <tr>\n",
       "      <th>building_id</th>\n",
       "      <td>8579a0b0d54db803821a35a4a615e97a</td>\n",
       "      <td>b8e75fc949a6cd8225b455648a951712</td>\n",
       "      <td>cd759a988b8f23924b5a2058d5ab2b49</td>\n",
       "      <td>53a5b119ba8f7b61d4e010512e0dfc85</td>\n",
       "      <td>bfb9405149bfff42a92980b594c28234</td>\n",
       "    </tr>\n",
       "    <tr>\n",
       "      <th>created</th>\n",
       "      <td>2016-06-16 05:55:27</td>\n",
       "      <td>2016-06-01 05:44:33</td>\n",
       "      <td>2016-06-14 15:19:59</td>\n",
       "      <td>2016-06-24 07:54:24</td>\n",
       "      <td>2016-06-28 03:50:23</td>\n",
       "    </tr>\n",
       "    <tr>\n",
       "      <th>description</th>\n",
       "      <td>Spacious 1 Bedroom 1 Bathroom in Williamsburg!...</td>\n",
       "      <td>BRAND NEW GUT RENOVATED TRUE 2 BEDROOMFind you...</td>\n",
       "      <td>**FLEX 2 BEDROOM WITH FULL PRESSURIZED WALL**L...</td>\n",
       "      <td>A Brand New 3 Bedroom 1.5 bath ApartmentEnjoy ...</td>\n",
       "      <td>Over-sized Studio w abundant closets. Availabl...</td>\n",
       "    </tr>\n",
       "    <tr>\n",
       "      <th>display_address</th>\n",
       "      <td>145 Borinquen Place</td>\n",
       "      <td>East 44th</td>\n",
       "      <td>East 56th Street</td>\n",
       "      <td>Metropolitan Avenue</td>\n",
       "      <td>East 34th Street</td>\n",
       "    </tr>\n",
       "    <tr>\n",
       "      <th>features</th>\n",
       "      <td>['Dining Room', 'Pre-War', 'Laundry in Buildin...</td>\n",
       "      <td>['Doorman', 'Elevator', 'Laundry in Building',...</td>\n",
       "      <td>['Doorman', 'Elevator', 'Laundry in Building',...</td>\n",
       "      <td>[]</td>\n",
       "      <td>['Doorman', 'Elevator', 'Fitness Center', 'Lau...</td>\n",
       "    </tr>\n",
       "    <tr>\n",
       "      <th>latitude</th>\n",
       "      <td>40.7108</td>\n",
       "      <td>40.7513</td>\n",
       "      <td>40.7575</td>\n",
       "      <td>40.7145</td>\n",
       "      <td>40.7439</td>\n",
       "    </tr>\n",
       "    <tr>\n",
       "      <th>listing_id</th>\n",
       "      <td>7170325</td>\n",
       "      <td>7092344</td>\n",
       "      <td>7158677</td>\n",
       "      <td>7211212</td>\n",
       "      <td>7225292</td>\n",
       "    </tr>\n",
       "    <tr>\n",
       "      <th>longitude</th>\n",
       "      <td>-73.9539</td>\n",
       "      <td>-73.9722</td>\n",
       "      <td>-73.9625</td>\n",
       "      <td>-73.9425</td>\n",
       "      <td>-73.9743</td>\n",
       "    </tr>\n",
       "    <tr>\n",
       "      <th>manager_id</th>\n",
       "      <td>a10db4590843d78c784171a107bdacb4</td>\n",
       "      <td>955db33477af4f40004820b4aed804a0</td>\n",
       "      <td>c8b10a317b766204f08e613cef4ce7a0</td>\n",
       "      <td>5ba989232d0489da1b5f2c45f6688adc</td>\n",
       "      <td>2c3b41f588fbb5234d8a1e885a436cfa</td>\n",
       "    </tr>\n",
       "    <tr>\n",
       "      <th>photos</th>\n",
       "      <td>['https://photos.renthop.com/2/7170325_3bb5ac8...</td>\n",
       "      <td>['https://photos.renthop.com/2/7092344_7663c19...</td>\n",
       "      <td>['https://photos.renthop.com/2/7158677_c897a13...</td>\n",
       "      <td>['https://photos.renthop.com/2/7211212_1ed4542...</td>\n",
       "      <td>['https://photos.renthop.com/2/7225292_901f198...</td>\n",
       "    </tr>\n",
       "    <tr>\n",
       "      <th>price</th>\n",
       "      <td>2400</td>\n",
       "      <td>3800</td>\n",
       "      <td>3495</td>\n",
       "      <td>3000</td>\n",
       "      <td>2795</td>\n",
       "    </tr>\n",
       "    <tr>\n",
       "      <th>street_address</th>\n",
       "      <td>145 Borinquen Place</td>\n",
       "      <td>230 East 44th</td>\n",
       "      <td>405 East 56th Street</td>\n",
       "      <td>792 Metropolitan Avenue</td>\n",
       "      <td>340 East 34th Street</td>\n",
       "    </tr>\n",
       "    <tr>\n",
       "      <th>interest_level</th>\n",
       "      <td>medium</td>\n",
       "      <td>low</td>\n",
       "      <td>medium</td>\n",
       "      <td>medium</td>\n",
       "      <td>low</td>\n",
       "    </tr>\n",
       "  </tbody>\n",
       "</table>\n",
       "</div>"
      ],
      "text/plain": [
       "                                                                 0  ...                                                  4\n",
       "bathrooms                                                        1  ...                                                  1\n",
       "bedrooms                                                         1  ...                                                  0\n",
       "building_id                       8579a0b0d54db803821a35a4a615e97a  ...                   bfb9405149bfff42a92980b594c28234\n",
       "created                                        2016-06-16 05:55:27  ...                                2016-06-28 03:50:23\n",
       "description      Spacious 1 Bedroom 1 Bathroom in Williamsburg!...  ...  Over-sized Studio w abundant closets. Availabl...\n",
       "display_address                                145 Borinquen Place  ...                                   East 34th Street\n",
       "features         ['Dining Room', 'Pre-War', 'Laundry in Buildin...  ...  ['Doorman', 'Elevator', 'Fitness Center', 'Lau...\n",
       "latitude                                                   40.7108  ...                                            40.7439\n",
       "listing_id                                                 7170325  ...                                            7225292\n",
       "longitude                                                 -73.9539  ...                                           -73.9743\n",
       "manager_id                        a10db4590843d78c784171a107bdacb4  ...                   2c3b41f588fbb5234d8a1e885a436cfa\n",
       "photos           ['https://photos.renthop.com/2/7170325_3bb5ac8...  ...  ['https://photos.renthop.com/2/7225292_901f198...\n",
       "price                                                         2400  ...                                               2795\n",
       "street_address                                 145 Borinquen Place  ...                               340 East 34th Street\n",
       "interest_level                                              medium  ...                                                low\n",
       "\n",
       "[15 rows x 5 columns]"
      ]
     },
     "execution_count": 3,
     "metadata": {
      "tags": []
     },
     "output_type": "execute_result"
    }
   ],
   "source": [
    "print(df.shape)\n",
    "df.head().T"
   ]
  },
  {
   "cell_type": "markdown",
   "metadata": {
    "id": "inFLb6EE_TYz"
   },
   "source": [
    "next we look at a concise summary of the rental data"
   ]
  },
  {
   "cell_type": "code",
   "execution_count": 4,
   "metadata": {
    "colab": {
     "base_uri": "https://localhost:8080/"
    },
    "id": "XB4ET5BJ_5Do",
    "outputId": "c8cd958f-3827-4135-fb02-886917968417"
   },
   "outputs": [
    {
     "name": "stdout",
     "output_type": "stream",
     "text": [
      "<class 'pandas.core.frame.DataFrame'>\n",
      "RangeIndex: 49352 entries, 0 to 49351\n",
      "Data columns (total 15 columns):\n",
      " #   Column           Non-Null Count  Dtype  \n",
      "---  ------           --------------  -----  \n",
      " 0   bathrooms        49352 non-null  float64\n",
      " 1   bedrooms         49352 non-null  int64  \n",
      " 2   building_id      49352 non-null  object \n",
      " 3   created          49352 non-null  object \n",
      " 4   description      47906 non-null  object \n",
      " 5   display_address  49217 non-null  object \n",
      " 6   features         49352 non-null  object \n",
      " 7   latitude         49352 non-null  float64\n",
      " 8   listing_id       49352 non-null  int64  \n",
      " 9   longitude        49352 non-null  float64\n",
      " 10  manager_id       49352 non-null  object \n",
      " 11  photos           49352 non-null  object \n",
      " 12  price            49352 non-null  int64  \n",
      " 13  street_address   49342 non-null  object \n",
      " 14  interest_level   49352 non-null  object \n",
      "dtypes: float64(3), int64(3), object(9)\n",
      "memory usage: 5.6+ MB\n"
     ]
    }
   ],
   "source": [
    "df.info()"
   ]
  },
  {
   "cell_type": "markdown",
   "metadata": {
    "id": "2OFnBjLe_6qC"
   },
   "source": [
    "`df.info` shows the data has a mix of numeric values `float64` `int64` and non-numeric values `object`. our focus will be on numeric data."
   ]
  },
  {
   "cell_type": "code",
   "execution_count": 5,
   "metadata": {
    "colab": {
     "base_uri": "https://localhost:8080/",
     "height": 204
    },
    "id": "I5Hs4TsaArpv",
    "outputId": "fdb4f8e2-3be5-4e9b-ae04-98a81a311e51"
   },
   "outputs": [
    {
     "data": {
      "text/html": [
       "<div>\n",
       "<style scoped>\n",
       "    .dataframe tbody tr th:only-of-type {\n",
       "        vertical-align: middle;\n",
       "    }\n",
       "\n",
       "    .dataframe tbody tr th {\n",
       "        vertical-align: top;\n",
       "    }\n",
       "\n",
       "    .dataframe thead th {\n",
       "        text-align: right;\n",
       "    }\n",
       "</style>\n",
       "<table border=\"1\" class=\"dataframe\">\n",
       "  <thead>\n",
       "    <tr style=\"text-align: right;\">\n",
       "      <th></th>\n",
       "      <th>bathrooms</th>\n",
       "      <th>bedrooms</th>\n",
       "      <th>longitude</th>\n",
       "      <th>latitude</th>\n",
       "      <th>price</th>\n",
       "    </tr>\n",
       "  </thead>\n",
       "  <tbody>\n",
       "    <tr>\n",
       "      <th>0</th>\n",
       "      <td>1.0</td>\n",
       "      <td>1</td>\n",
       "      <td>-73.9539</td>\n",
       "      <td>40.7108</td>\n",
       "      <td>2400</td>\n",
       "    </tr>\n",
       "    <tr>\n",
       "      <th>1</th>\n",
       "      <td>1.0</td>\n",
       "      <td>2</td>\n",
       "      <td>-73.9722</td>\n",
       "      <td>40.7513</td>\n",
       "      <td>3800</td>\n",
       "    </tr>\n",
       "    <tr>\n",
       "      <th>2</th>\n",
       "      <td>1.0</td>\n",
       "      <td>2</td>\n",
       "      <td>-73.9625</td>\n",
       "      <td>40.7575</td>\n",
       "      <td>3495</td>\n",
       "    </tr>\n",
       "    <tr>\n",
       "      <th>3</th>\n",
       "      <td>1.5</td>\n",
       "      <td>3</td>\n",
       "      <td>-73.9425</td>\n",
       "      <td>40.7145</td>\n",
       "      <td>3000</td>\n",
       "    </tr>\n",
       "    <tr>\n",
       "      <th>4</th>\n",
       "      <td>1.0</td>\n",
       "      <td>0</td>\n",
       "      <td>-73.9743</td>\n",
       "      <td>40.7439</td>\n",
       "      <td>2795</td>\n",
       "    </tr>\n",
       "  </tbody>\n",
       "</table>\n",
       "</div>"
      ],
      "text/plain": [
       "   bathrooms  bedrooms  longitude  latitude  price\n",
       "0        1.0         1   -73.9539   40.7108   2400\n",
       "1        1.0         2   -73.9722   40.7513   3800\n",
       "2        1.0         2   -73.9625   40.7575   3495\n",
       "3        1.5         3   -73.9425   40.7145   3000\n",
       "4        1.0         0   -73.9743   40.7439   2795"
      ]
     },
     "execution_count": 5,
     "metadata": {
      "tags": []
     },
     "output_type": "execute_result"
    }
   ],
   "source": [
    "df_num = df[['bathrooms', 'bedrooms', 'longitude', 'latitude', 'price']] # a list of features with numeric values\n",
    "df_num.head()"
   ]
  },
  {
   "cell_type": "markdown",
   "metadata": {
    "id": "WwfhEq53Co8F"
   },
   "source": [
    "checking for missing values in the data set. ml models cannot properly handle `NaN`"
   ]
  },
  {
   "cell_type": "code",
   "execution_count": 6,
   "metadata": {
    "colab": {
     "base_uri": "https://localhost:8080/"
    },
    "id": "Pk4eEPKKCG10",
    "outputId": "99576221-497f-4248-8750-ae9091e9b60c"
   },
   "outputs": [
    {
     "name": "stdout",
     "output_type": "stream",
     "text": [
      "bathrooms    0\n",
      "bedrooms     0\n",
      "longitude    0\n",
      "latitude     0\n",
      "price        0\n",
      "dtype: int64\n"
     ]
    }
   ],
   "source": [
    "print(df_num.isnull().sum())"
   ]
  },
  {
   "cell_type": "markdown",
   "metadata": {
    "id": "dh5oIXAsMDP2"
   },
   "source": [
    "# Model Training \n",
    "are there patterns that show a relationship between the features and the target? \n",
    "## procedure\n",
    "### create design matrices: features (independent variables) vs target (dependent variable)"
   ]
  },
  {
   "cell_type": "code",
   "execution_count": 10,
   "metadata": {
    "id": "4_uvGWaCOy31"
   },
   "outputs": [],
   "source": [
    "X_train = df_num[['bathrooms','bedrooms','longitude','latitude']]\n",
    "y_train = df_num['price']"
   ]
  },
  {
   "cell_type": "markdown",
   "metadata": {
    "id": "wZMrHGJrPNku"
   },
   "source": [
    "### create model"
   ]
  },
  {
   "cell_type": "code",
   "execution_count": 18,
   "metadata": {
    "id": "wGRQqnNZPSSm"
   },
   "outputs": [],
   "source": [
    "from sklearn.ensemble import RandomForestRegressor\n",
    "rf = RandomForestRegressor(n_estimators=100, # number of trees in the forest = 100\n",
    "                           n_jobs=-1)        # use all processors for training"
   ]
  },
  {
   "cell_type": "markdown",
   "metadata": {
    "id": "ookC54uTTMR0"
   },
   "source": [
    "### fit model to training data"
   ]
  },
  {
   "cell_type": "code",
   "execution_count": 19,
   "metadata": {
    "colab": {
     "base_uri": "https://localhost:8080/"
    },
    "id": "V_oB-HB9S55b",
    "outputId": "85455dbf-55ba-4fc8-d727-054e0d74a365"
   },
   "outputs": [
    {
     "data": {
      "text/plain": [
       "RandomForestRegressor(bootstrap=True, ccp_alpha=0.0, criterion='mse',\n",
       "                      max_depth=None, max_features='auto', max_leaf_nodes=None,\n",
       "                      max_samples=None, min_impurity_decrease=0.0,\n",
       "                      min_impurity_split=None, min_samples_leaf=1,\n",
       "                      min_samples_split=2, min_weight_fraction_leaf=0.0,\n",
       "                      n_estimators=100, n_jobs=-1, oob_score=False,\n",
       "                      random_state=None, verbose=0, warm_start=False)"
      ]
     },
     "execution_count": 19,
     "metadata": {
      "tags": []
     },
     "output_type": "execute_result"
    }
   ],
   "source": [
    "rf.fit(X_train,y_train)"
   ]
  },
  {
   "cell_type": "markdown",
   "metadata": {
    "id": "Xo5eXSt9Tasc"
   },
   "source": [
    "## how well does the model fit the data?\n",
    "methods:\n",
    "- using the $R^{2}$ error metric (coefficient of determination) to measure how well the model fits the data.\n",
    "- using the mean absolute error (MAE) metric to compute difference between predicted and actual values (training error)."
   ]
  },
  {
   "cell_type": "code",
   "execution_count": 20,
   "metadata": {
    "colab": {
     "base_uri": "https://localhost:8080/"
    },
    "id": "cE42XTzGVUxf",
    "outputId": "5580eb75-517c-4ef7-e2ec-12a68c6a8cc0"
   },
   "outputs": [
    {
     "name": "stdout",
     "output_type": "stream",
     "text": [
      "0.8756\n"
     ]
    }
   ],
   "source": [
    "# rsquared\n",
    "r2 = rf.score(X_train, y_train)\n",
    "print(f'{r2:.4f}')"
   ]
  },
  {
   "cell_type": "markdown",
   "metadata": {
    "id": "5Pfkuuqua3Pm"
   },
   "source": [
    "a high $R^{2}$ score means the model has successfully captured some patterns in the data which indicates a relationship between the features and target. $R^{2}$ is only very useful when checking for the existence of patterns within data."
   ]
  },
  {
   "cell_type": "code",
   "execution_count": 23,
   "metadata": {
    "colab": {
     "base_uri": "https://localhost:8080/"
    },
    "id": "7JTNNArdxA1J",
    "outputId": "739dd8a4-8735-4996-9e0e-f152d7600e7f"
   },
   "outputs": [
    {
     "name": "stdout",
     "output_type": "stream",
     "text": [
      "$286 average error; 7.47% training error\n"
     ]
    }
   ],
   "source": [
    "# mean absolute error\n",
    "from sklearn.metrics import mean_absolute_error\n",
    "predictions = rf.predict(X_train)\n",
    "e = mean_absolute_error(y_train, predictions)\n",
    "ep = e*100.0/y_train.mean()\n",
    "print(f'${e:.0f} average error; {ep:.2f}% training error')"
   ]
  },
  {
   "cell_type": "markdown",
   "metadata": {
    "id": "AtHRdbYYVkl9"
   },
   "source": [
    "7.47% error is pretty great but this metric does not capture the overall validity of our model. to be more confient of our model, let's test for model generalization."
   ]
  },
  {
   "cell_type": "markdown",
   "metadata": {
    "id": "SoPOQVWrvey8"
   },
   "source": [
    "# Model Testing (Generalization)\n",
    "## how well does the model perform on unseen data (generalization)?\n",
    "does the model yield reasonable predictions?\\\n",
    "checking for validation error using:\n",
    "- hold out method\n",
    "- out-of-bag score"
   ]
  },
  {
   "cell_type": "code",
   "execution_count": 28,
   "metadata": {
    "colab": {
     "base_uri": "https://localhost:8080/"
    },
    "id": "2Bgkm8ZmvTAM",
    "outputId": "267c616f-1b56-4fc9-d58b-8af89e3c84eb"
   },
   "outputs": [
    {
     "name": "stdout",
     "output_type": "stream",
     "text": [
      "$407 average error; 10.64% validation error\n",
      "a 70.21% increase in error during validation makes for poor model generalization\n"
     ]
    }
   ],
   "source": [
    "# hold out method\n",
    "from sklearn.model_selection import train_test_split\n",
    "X,y =  df_num[['bathrooms','bedrooms','longitude','latitude']], df_num['price']\n",
    "\n",
    "# holding out 20% of training data as validation/test data\n",
    "X_train, X_test, y_train, y_test = train_test_split(X,y,test_size=.2)\n",
    "\n",
    "rf = RandomForestRegressor(n_estimators=10)\n",
    "rf.fit(X_train, y_train)\n",
    "\n",
    "validation_e = mean_absolute_error(y_test, rf.predict(X_test))\n",
    "print(f'${validation_e:.0f} average error; {validation_e*100.0/y.mean():.2f}% validation error')\n",
    "print(f'a {((e/validation_e)*100):.2f}% increase in error during validation makes for poor model generalization')"
   ]
  },
  {
   "cell_type": "markdown",
   "metadata": {
    "id": "jODmrCkhZwDX"
   },
   "source": [
    "as expected model does well on training data than validation data. this also shows that our data might be very noisy or there are no patterns in the data (we already proved with a high $R^{2}$ that there exist some form of relationship between the feature variables and the target). "
   ]
  },
  {
   "cell_type": "code",
   "execution_count": 25,
   "metadata": {
    "colab": {
     "base_uri": "https://localhost:8080/"
    },
    "id": "Q8K7LxFoauOO",
    "outputId": "19ec69b2-30f6-4122-8188-c80048db23d9"
   },
   "outputs": [
    {
     "name": "stdout",
     "output_type": "stream",
     "text": [
      "OOB score: -0.0460\n"
     ]
    }
   ],
   "source": [
    "# out-of-bag score:  proof of noisy data\n",
    "rf = RandomForestRegressor(n_estimators=100,  # number of trees in the forest = 100\n",
    "                           n_jobs=-1,         # use all processors for training\n",
    "                           oob_score=True)    # get error estimate\n",
    "\n",
    "X_train, y_train = df_num[['bathrooms','bedrooms','longitude','latitude']], df_num['price']                           \n",
    "\n",
    "rf.fit(X_train,y_train)\n",
    "noisy_oob_r2 = rf.oob_score_\n",
    "print(f'OOB score: {noisy_oob_r2:.4f}')"
   ]
  },
  {
   "cell_type": "markdown",
   "metadata": {
    "id": "3dXR_XW8dGAp"
   },
   "source": [
    "OOB score is way below $R^{2}$ score, even though both are equivalent error metrics (coefficient of determination). OOB score is very terrible and our only conclusion will be that the data is pretty noisy, inconsistent or has some outliers. to prove that, we have to dig deeper into the data in the next post [tipToe Dive into Machine Learning II](https://d3la.github.io/wOL3/advanced%20beginner/2020/12/08/2SigmaP1.html)."
   ]
  }
 ],
 "metadata": {
  "colab": {
   "name": "2SigmaP1.ipynb",
   "provenance": []
  },
  "kernelspec": {
   "display_name": "Python 3",
   "language": "python",
   "name": "python3"
  },
  "language_info": {
   "codemirror_mode": {
    "name": "ipython",
    "version": 3
   },
   "file_extension": ".py",
   "mimetype": "text/x-python",
   "name": "python",
   "nbconvert_exporter": "python",
   "pygments_lexer": "ipython3",
   "version": "3.8.3"
  }
 },
 "nbformat": 4,
 "nbformat_minor": 4
}
